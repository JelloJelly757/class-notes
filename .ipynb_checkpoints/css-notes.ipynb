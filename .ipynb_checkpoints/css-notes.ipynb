{
 "cells": [
  {
   "cell_type": "markdown",
   "id": "d178b5ec-6ab1-4464-99d2-ce9e4eb8704c",
   "metadata": {},
   "source": [
    "# CSS Notes\n",
    "***"
   ]
  },
  {
   "cell_type": "markdown",
   "id": "da772a32-2d41-451a-9278-c7f5dad15f13",
   "metadata": {},
   "source": [
    "## 1. What is CSS ##"
   ]
  },
  {
   "cell_type": "markdown",
   "id": "9f7ddd53-7cea-4564-a2ba-bc14809ae4c3",
   "metadata": {},
   "source": [
    "<p> CSS (Cascading Style Sheets) is a language used to describe the presentation of a web page written in HTML. It controls the layout, colors, fonts, and overall visual appearance of web pages. </p>"
   ]
  },
  {
   "cell_type": "markdown",
   "id": "3090ad25",
   "metadata": {},
   "source": [
    "### CSS Snytax ### \n",
    "\n",
    "<p> A CSS rule consists of a selector and a declaration block:\n",
    "\n",
    "    selector {\n",
    "        property: value; \n",
    "    }\n",
    "\n",
    "1. __Selector:__ Specifies the HTML element(s) you want to style\n",
    "2. __Property:__ The style attribute you want to change (e.g., color, font-size)\n",
    "3. __Value:__ The value of property (e.g., blue, 16px)\n",
    "</p>"
   ]
  },
  {
   "cell_type": "markdown",
   "id": "d46fc787",
   "metadata": {},
   "source": [
    "#### Example: ####\n",
    "```\n",
    "    p {\n",
    "        color: blue; \n",
    "        font-size: 14px;\n",
    "    }\n",
    "\n",
    "This styles all <p> elements to have a blue text and a font-size of 14 pixels \n",
    "```"
   ]
  },
  {
   "cell_type": "markdown",
   "id": "82cf6115",
   "metadata": {},
   "source": [
    "## 2. Adding CSS to HTML using External CSS ##\n",
    "***"
   ]
  },
  {
   "cell_type": "markdown",
   "id": "2e8d7770",
   "metadata": {},
   "source": [
    "### External CSS ###\n",
    "\n",
    "```\n",
    "<p> Uses an external .css file linked with the <link> tag\n",
    "\n",
    "    <head>\n",
    "        <link rel=\"stylesheet\" href=\"style.css\">\n",
    "    </head> \n",
    "```"
   ]
  },
  {
   "cell_type": "markdown",
   "id": "632ac6f4",
   "metadata": {},
   "source": [
    "## 3. CSS Selectors ## \n",
    "***\n",
    "\n",
    "### Element Selector\n",
    "\n",
    "<p> Selects all elements of a given type </p>\n",
    "\n",
    "```\n",
    "    h1 {\n",
    "        color: red; \n",
    "    }\n",
    "```\n",
    "***"
   ]
  },
  {
   "cell_type": "markdown",
   "id": "a5ec251f",
   "metadata": {},
   "source": [
    "### Class Selector ###\n",
    "\n",
    "<p> Selects elements with a specific class attribute. Use a period . followed by the class name\n",
    "\n",
    "```\n",
    "    .intro {\n",
    "        font-size: 16px; \n",
    "    }\n",
    "```\n",
    "\n",
    "A class selector must be paried with creating the class in an html file \n",
    "\n",
    "```\n",
    "    <p class=\"intro\">This is an introductory paragraph.</p> \n",
    "```\n",
    "***\n",
    "</p>\n"
   ]
  },
  {
   "cell_type": "markdown",
   "id": "e18eb3f7",
   "metadata": {},
   "source": [
    "### ID Selector ### \n",
    "\n",
    "<p> Selects an element with a specific id attribute. Use a hash # followed by the id name. \n",
    "\n",
    "```\n",
    "    #main {\n",
    "        width: 960px;\n",
    "    }\n",
    "```\n",
    "\n",
    "An ID selector must be paired with creating the ID in an html file. An ID is used to select a very specific html element. We can use them with classes to further differentiate among elements\n",
    "\n",
    "``` \n",
    "    <div id=\"main>This is the main content area.</div>\n",
    "```\n",
    "</p>\n"
   ]
  },
  {
   "cell_type": "markdown",
   "id": "13305f3f",
   "metadata": {},
   "source": [
    "### Universal Selector ###\n",
    "\n",
    "<p> Selects all elements </p>\n",
    "\n",
    "```\n",
    "    *{\n",
    "        margin: 0;\n",
    "        padding: 0; \n",
    "    }\n",
    "```\n",
    "***"
   ]
  },
  {
   "cell_type": "markdown",
   "id": "783181ff",
   "metadata": {},
   "source": [
    "### Grouping Selectors ###\n",
    "\n",
    "<p> Applies the same styles to mulitple selectors </p>\n",
    "\n",
    "```\n",
    "    h1, h2, h3 {\n",
    "        color: navy; \n",
    "    }\n",
    "```\n",
    "***"
   ]
  },
  {
   "cell_type": "markdown",
   "id": "885eef1e",
   "metadata": {},
   "source": [
    "## 4. Common CSS Properties ##\n",
    "***"
   ]
  },
  {
   "cell_type": "markdown",
   "id": "edbfc79b",
   "metadata": {},
   "source": [
    "### Text Properties ## \n",
    "\n",
    "<p> color: Sets the color of text </p>\n",
    "\n",
    "```\n",
    "    p {\n",
    "        color: #333333 \n",
    "    }\n",
    "```\n",
    "*** "
   ]
  },
  {
   "cell_type": "markdown",
   "id": "c3dc256e",
   "metadata": {},
   "source": [
    "<p> font-size: Sets the size of the font</p>\n",
    "\n",
    "```\n",
    "    p {\n",
    "        font-size: 14px; \n",
    "    }\n",
    "```\n",
    "***\n",
    "<p> font-family: Specifies  the font of text\n",
    "\n",
    "```\n",
    "    p {\n",
    "        font-family: Arial, sans-serif; \n",
    "    }\n",
    "``` \n",
    "***\n",
    "<p> font-weight: Sets the weight (boldness) of the font</p>\n",
    "\n",
    "```\n",
    "    p {\n",
    "        font-weight: bold; \n",
    "    }\n",
    "```\n",
    "***\n",
    "<p> text-align: Aligns the text horizontally<p>\n",
    "\n",
    "```\n",
    "    p {\n",
    "        text-align: center; \n",
    "    }\n",
    "``` \n",
    "***"
   ]
  },
  {
   "cell_type": "markdown",
   "id": "0b6195b6",
   "metadata": {},
   "source": [
    "### Background Properties ### \n",
    "\n",
    "<p> background-color: Sets the background color of an element</p>\n",
    "\n",
    "```\n",
    "     body {\n",
    "        background-color: #f0f0f0; \n",
    "     }\n",
    "```\n",
    "***\n",
    "<p> background-image: Sets a background image for an element</p>\n",
    "\n",
    "```\n",
    "    body {\n",
    "        background-image: url('background.jpg'); \n",
    "    }\n",
    "```\n",
    "***"
   ]
  },
  {
   "cell_type": "markdown",
   "id": "3f4c7839",
   "metadata": {},
   "source": [
    "### Box Model Properties ### \n",
    "\n",
    "<p> The CSS box model consists of margins, borders, padding, and the content area\n",
    "\n",
    "width and height: Set the size of the content area </p>\n",
    "\n",
    "```\n",
    "    div {\n",
    "        width: 200px; \n",
    "        height\n",
    "    }\n",
    "```\n",
    "***\n",
    "<p> padding: Sets the space between the content and the border</p>\n",
    "\n",
    "```\n",
    "    div {\n",
    "        padding: 10px; \n",
    "    }\n",
    "```\n",
    "***\n",
    "<p> border: Sets the border around an element</p>\n",
    "\n",
    "```\n",
    "    div {\n",
    "        border: 1p solid #000;\n",
    "    }\n",
    "```\n",
    "***\n",
    "<p> margin: Sets the space outside the border</p>\n",
    "\n",
    "```\n",
    "    div {\n",
    "        margin: 20px; \n",
    "    }\n",
    "```\n",
    "***"
   ]
  },
  {
   "cell_type": "markdown",
   "id": "ce80f35b",
   "metadata": {},
   "source": [
    "### Display and Visibilty ###\n",
    "\n",
    "<p> display: Specifies the display behavior of an element<p>\n",
    "\n",
    "```\n",
    "    .inline {\n",
    "        display: inline; \n",
    "    }\n",
    "\n",
    "    .block {\n",
    "        display: block; \n",
    "    }\n",
    "\n",
    "    .none {\n",
    "        display:: none; /*Hides the element */ \n",
    "    }\n",
    "```\n",
    "***\n",
    "<p> visibility: Controls the visibility of an element\n",
    "\n",
    "```\n",
    "    .inivisible {\n",
    "        visibility: hidden; /* Element takes up space but is not visible */\n",
    "    }\n",
    "***"
   ]
  },
  {
   "cell_type": "markdown",
   "id": "e13df1e9",
   "metadata": {},
   "source": [
    "## 5. CSS Flexbox ## \n",
    "***\n",
    "\n",
    "<p> Flexbox is a layout mode in CSS designed to provide a more efficient way to lay out, align, and distribute space among items in a container <p>\n",
    "\n",
    "### Setting Up a Flexbox Container ###\n",
    "\n",
    "```\n",
    "    .container {\n",
    "        display: flex; \n",
    "    }\n",
    "```\n",
    "***"
   ]
  },
  {
   "cell_type": "markdown",
   "id": "fda7ce29",
   "metadata": {},
   "source": [
    "### Flex Direction ###\n",
    "\n",
    "<p> Specifies the direction of the flex items</p>\n",
    "\n",
    "```\n",
    "    .container {\n",
    "        flex-direction: row; /* row, row-reverse, column, column-reverse */\n",
    "    }\n",
    "```\n",
    "***\n"
   ]
  },
  {
   "cell_type": "markdown",
   "id": "c5bbd41c",
   "metadata": {},
   "source": [
    "### Justify Content ###\n",
    "\n",
    "<p> Aligns items along the main axis</p>\n",
    "\n",
    "```\n",
    "    .container {\n",
    "justify-content: center; /* flex-start, flex-end, center, space-between, space-around */\n",
    "    }\n",
    "```\n",
    "***\n"
   ]
  },
  {
   "cell_type": "markdown",
   "id": "7736cd6e",
   "metadata": {},
   "source": [
    "### Align Items ###\n",
    "\n",
    "<p> Aligns items along the cross axis </p>\n",
    "\n",
    "``` \n",
    "    .container {\n",
    "        align-items: center; /* stretch, flex-start, flex-end, center, baseline */\n",
    "    }\n",
    "```\n",
    "***"
   ]
  },
  {
   "cell_type": "markdown",
   "id": "9d1b3018",
   "metadata": {},
   "source": [
    "### Flex Wrap ###\n",
    "\n",
    "<p> Allows flex items to wrap onto multiple lines </p>\n",
    "\n",
    "```\n",
    "    .container {\n",
    "        flex-wrap: wrap; /* nowrap, wrap-reverse */\n",
    "    }\n",
    "```\n",
    "***\n"
   ]
  },
  {
   "cell_type": "markdown",
   "id": "3eb6e8bd",
   "metadata": {},
   "source": [
    "### Flex Item Properties ###\n",
    "\n",
    "<p> flex-grow: Specifies how much a flex item will grow relative to the rest</p>\n",
    "\n",
    "```\n",
    "    .item {\n",
    "        flex-grow: 1;\n",
    "    }\n",
    "```\n",
    "***\n"
   ]
  },
  {
   "cell_type": "markdown",
   "id": "fec7eaff",
   "metadata": {},
   "source": [
    "### Example Flexbox Layout ###\n",
    "\n",
    "#### HTML ####\n",
    "\n",
    "```\n",
    "    <div class=\"container\">\n",
    "        <div class=\"item\">Item 1</div> \n",
    "        <div class=\"item\">Item 2</div> \n",
    "        <div class=\"item\">Item 3</div>\n",
    "    </div>\n",
    "```\n",
    "\n",
    "#### CSS ####\n",
    "\n",
    "```\n",
    "    .container {\n",
    "        display: flex;\n",
    "        flex-direction: row;\n",
    "        justify-content: space-between;\n",
    "        align-items: center;\n",
    "    }\n",
    "\n",
    "    .item {\n",
    "        background-color: lightblue;\n",
    "        padding: 20px;\n",
    "        margin: 10px;\n",
    "        flex: 1;\n",
    "    }\n",
    "```\n",
    "<p> This creates a responsive layout where items are evenly spaced and aligned </p>\n",
    "\n"
   ]
  }
 ],
 "metadata": {
  "kernelspec": {
   "display_name": "Python 3 (ipykernel)",
   "language": "python",
   "name": "python3"
  },
  "language_info": {
   "codemirror_mode": {
    "name": "ipython",
    "version": 3
   },
   "file_extension": ".py",
   "mimetype": "text/x-python",
   "name": "python",
   "nbconvert_exporter": "python",
   "pygments_lexer": "ipython3",
   "version": "3.12.1"
  }
 },
 "nbformat": 4,
 "nbformat_minor": 5
}
