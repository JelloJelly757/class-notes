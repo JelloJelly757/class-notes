{
 "cells": [
  {
   "cell_type": "markdown",
   "id": "d178b5ec-6ab1-4464-99d2-ce9e4eb8704c",
   "metadata": {},
   "source": [
    "# HTML Notes\n",
    "***"
   ]
  },
  {
   "cell_type": "markdown",
   "id": "da772a32-2d41-451a-9278-c7f5dad15f13",
   "metadata": {},
   "source": [
    "## 1. HTML Structure ##"
   ]
  },
  {
   "cell_type": "markdown",
   "id": "9f7ddd53-7cea-4564-a2ba-bc14809ae4c3",
   "metadata": {},
   "source": [
    "<p> HTML is the standard language for creating web pages. It uses a series of elements represented by tags, like this: </p>"
   ]
  },
  {
   "cell_type": "markdown",
   "id": "22b542af",
   "metadata": {},
   "source": [
    "```\n",
    "<!DOCTYPE html>\n",
    "<html>\n",
    "    <head>\n",
    "        <title>Page Title</title>\n",
    "    </head> \n",
    "    <body> \n",
    "        <h1>This is a heading</h1>\n",
    "        <p>This is a paragraph</p>\n",
    "    </body> \n",
    "</html>\n",
    "```"
   ]
  },
  {
   "cell_type": "markdown",
   "id": "016aaf26",
   "metadata": {},
   "source": [
    "### Key Elements ###"
   ]
  },
  {
   "cell_type": "markdown",
   "id": "c870f8da",
   "metadata": {},
   "source": [
    "``` \n",
    "<<!DOCTYPE html> Declares the document as HTMLS\n",
    "\n",
    "<html> The root element of the HTML document \n",
    "\n",
    "<head> Contains meta-information about the document (e.g., title, links to stylesheets)\n",
    "\n",
    "<body> Contains the conten of the document "
   ]
  },
  {
   "cell_type": "markdown",
   "id": "291223f1",
   "metadata": {},
   "source": [
    "## 2. Common HTML Tags ##\n",
    "\n",
    "### Headings ###"
   ]
  },
  {
   "cell_type": "markdown",
   "id": "c3221029",
   "metadata": {},
   "source": [
    "```\n",
    "HTML offers six levels of heading from <h1> to <h6>, where <h1> is the highest (or most important) level\n",
    "\n",
    "<h1>Main Heading</h1>\n",
    "<h2>Subheading</h2>\n",
    "<h3>Sub-subheading</h3>\n",
    "```\n",
    "\n"
   ]
  },
  {
   "cell_type": "markdown",
   "id": "e8e72950",
   "metadata": {},
   "source": [
    "#### Personal Example: ####\n",
    "```\n",
    "<h1> Lin Manuel Miranda <h1>\n",
    "\n",
    "<h2> Musical Pursuits <h2>\n",
    "\n",
    "<h3> In The Heights <h3>\n",
    "```"
   ]
  },
  {
   "cell_type": "markdown",
   "id": "cd8a62c1",
   "metadata": {},
   "source": [
    "### Paragraphs ###\n",
    "```\n",
    "Paragraphs are created using the <p> tag \n",
    "\n",
    "<p> This is a paragraph </p>\n",
    "```"
   ]
  },
  {
   "cell_type": "markdown",
   "id": "0f2c6b9f",
   "metadata": {},
   "source": [
    "#### Personal Example: ####\n",
    "\n",
    "```\n",
    "<p> Abraham Lincoln was the 16th president of the United States of America. He was elected for a second term, but he was killed at the beginning of it by John Wilkes Booth on April 15th, 1865 </p>\n",
    "```"
   ]
  },
  {
   "cell_type": "markdown",
   "id": "3fd387ce",
   "metadata": {},
   "source": [
    "### Links ###\n",
    "\n",
    "```\n",
    "Links are createed with the <a> tag , which includes an href attribute to specify the URL \n",
    "\n",
    "<a href=https://example.com\">Click here</a>\n",
    "```"
   ]
  },
  {
   "cell_type": "markdown",
   "id": "fca8935a",
   "metadata": {},
   "source": [
    "#### Personal Example: ####\n",
    "\n",
    "```\n",
    "<a href=https://letterboxd.com/>Letterboxd (Movie Reviewing Website)</a>\n",
    "```"
   ]
  },
  {
   "cell_type": "markdown",
   "id": "339e3ec1",
   "metadata": {},
   "source": [
    "### Images ###\n",
    "\n",
    "```\n",
    "Images are embedded using the <img> tag with scr and alt attributes \n",
    "\n",
    "<img src=\"image.jpg\" alt= \"Description of image\"> \n",
    "```"
   ]
  },
  {
   "cell_type": "markdown",
   "id": "9fa1045e",
   "metadata": {},
   "source": [
    "#### Personal Example: #### \n",
    "\n",
    "```\n",
    "<img src=\"https://images.ps-aws.com/c?url=https%3A%2F%2Fd3cm515ijfiu6w.cloudfront.net%2Fwp-content%2Fuploads%2F2024%2F02%2F23140747%2Fmax-verstappen-red-bull-bahrain-testing-day-3-2024-planetf1.jpg\" alt=\"Max Verstappen's Red Bull at Baku 2024\"\n",
    "```\n"
   ]
  },
  {
   "cell_type": "markdown",
   "id": "4521e8ec",
   "metadata": {},
   "source": [
    "### Lists ###\n",
    "\n",
    "```\n",
    "There are two main types of lists: ordered <ol> and unordered <ul>. An unordered list will have dots or a decorator at the beginning of the list, while an ordered list will be numbered. \n",
    "```\n",
    "\n",
    "#### Unordered Lists #### \n",
    "\n",
    "```\n",
    "<ul>\n",
    "    <li> Item 1 </li>\n",
    "    <li> Item 2 </li>\n",
    "    <li> Item 3 </li>\n",
    "</ul>\n",
    "``` \n",
    "\n",
    "##### Personal Example: #####\n",
    "\n",
    "```\n",
    "<ul>\n",
    "    <li> Monkeys </li>\n",
    "    <li> Tigers </li>\n",
    "    <li> Lions </li>\n",
    "</ul>\n",
    "```\n",
    "\n",
    "#### Ordered Lists ####\n",
    "\n",
    "```\n",
    "<ol>\n",
    "    <li> First Item </li> \n",
    "    <li> Second Item </li>\n",
    "    <li> Third Item </li>\n",
    "</ol> \n",
    "```\n",
    "\n",
    "##### Personal Example ##### \n",
    "\n",
    "```\n",
    "<ol>\n",
    "    <li> Go Shopping </li> \n",
    "    <li> Buy Bread </li>\n",
    "    <li> Cut Bread </li>\n",
    "</ol> \n",
    "```"
   ]
  },
  {
   "cell_type": "markdown",
   "id": "a2c8c572",
   "metadata": {},
   "source": [
    "## 3. Attribute ## \n",
    "\n",
    "<p> HTML elements can have attributes, which provide additional information about the element. Attributes are always defined in the opening tag and usually come in name/value pairs. There are many different types of attributes that can be applied to HTML tags <p> \n",
    "\n",
    "Example: \n",
    "```\n",
    "    <a href=\"https://example.com\" target=\"_blank\">Link</a>\n",
    "\n",
    "href Specifies the link's destination \n",
    "target=\"_blank\" Opens the link in a new tab \n",
    "```\n",
    "\n",
    "#### Personal Example #### \n",
    "```\n",
    "    <a href=\"https://en.wikipedia.org/wiki/The_Lego_Group\" target=\"_blank\">Lego Wikipedia Page</a>\n",
    "```\n",
    "\n"
   ]
  },
  {
   "cell_type": "markdown",
   "id": "61663b43",
   "metadata": {},
   "source": [
    "## 4. Divs & Spans ##\n",
    "\n",
    "```\n",
    "<div> Defines a division or section in an HTML document. It's often used to group elemtns for styling or layout \n",
    "\n",
    "<span> An inline container used to group content for styling or scripting\n",
    "```\n",
    "\n",
    "Example \n",
    "```\n",
    "<div> \n",
    "    <h1>Title</h1>\n",
    "    <p>This is inside a div</p>\n",
    "</div> \n",
    "\n",
    "<span>This is inside a span</span>"
   ]
  },
  {
   "cell_type": "markdown",
   "id": "8ffe94ee",
   "metadata": {},
   "source": [
    "## 5. Forms ##\n",
    "\n",
    "<p> HTML forms collect user input. A form usually contains input, textarea, select, and button elements <p>\n",
    "\n",
    "```\n",
    "    <form action=\"submit\" method=\"post\">\n",
    "        <label for \"name\">Name:</label>\n",
    "        <input type=\"text\" id=\"name\" name=\"name\">\n",
    "        <input type=submit\" value=\"Submit>\n",
    "    </form>\n",
    "\n",
    "action URL to send form data to\n",
    "\n",
    "method Specifies how to send form data (get or post)\n",
    "```"
   ]
  },
  {
   "cell_type": "markdown",
   "id": "86bb282b",
   "metadata": {},
   "source": [
    "## 6. Semantic HTML ## \n",
    "\n",
    "<p> HTML5 introduced new semantic elements to provide better meaning to web pages. This is for better code readability, accessibility for those living with disabilities and many other benefits </p>\n",
    "\n",
    "```\n",
    "<header> Defines a header section \n",
    "\n",
    "<nav> Defines a navigation bar \n",
    "\n",
    "<section> Defines a section in a document \n",
    "\n",
    "<article> Defines independent content\n",
    "\n",
    "<footer> Defines a footer for a document or section \n",
    "```\n",
    "\n",
    "<p> Examples of Semantic HTML </p>\n",
    "\n",
    "```\n",
    "<header>\n",
    "    <h1> Welcome to my website <h1>\n",
    "</header>\n",
    "\n",
    "<nav>\n",
    "    <a href=\"/home\">Home</a>\n",
    "    <a href=\"/about\">About</a>\n",
    "</nav> \n",
    "\n",
    "<section>\n",
    "    <article>\n",
    "        <h2>Blog Post Title<h2>\n",
    "        <p>Blog content gos here...</p>\n",
    "    </article>\n",
    "</section>\n",
    "\n",
    "<footer>\n",
    "    <p>Footer content goes here</p>\n",
    "</footer>"
   ]
  },
  {
   "cell_type": "markdown",
   "id": "9f4eac02-919c-4bce-b59f-922f1f26422f",
   "metadata": {},
   "source": [
    "[Image of Patrick Kane] (https://i.pinimg.com/originals/72/fb/73/72fb733dd5671ef3b974fd9efcdc08ff.jpg)"
   ]
  }
 ],
 "metadata": {
  "kernelspec": {
   "display_name": "Python 3 (ipykernel)",
   "language": "python",
   "name": "python3"
  },
  "language_info": {
   "codemirror_mode": {
    "name": "ipython",
    "version": 3
   },
   "file_extension": ".py",
   "mimetype": "text/x-python",
   "name": "python",
   "nbconvert_exporter": "python",
   "pygments_lexer": "ipython3",
   "version": "3.12.1"
  }
 },
 "nbformat": 4,
 "nbformat_minor": 5
}
