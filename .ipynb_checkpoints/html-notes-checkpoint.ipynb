{
 "cells": [
  {
   "cell_type": "markdown",
   "id": "d178b5ec-6ab1-4464-99d2-ce9e4eb8704c",
   "metadata": {},
   "source": [
    "# HTML Notes\n",
    "***"
   ]
  },
  {
   "cell_type": "markdown",
   "id": "da772a32-2d41-451a-9278-c7f5dad15f13",
   "metadata": {},
   "source": [
    "## 1. HTML Structure ##"
   ]
  },
  {
   "cell_type": "markdown",
   "id": "9f7ddd53-7cea-4564-a2ba-bc14809ae4c3",
   "metadata": {},
   "source": [
    "<p> HTML is the standard language for creating web pages. It uses a series of elements represented by tags, like this: </p>"
   ]
  },
  {
   "cell_type": "code",
   "execution_count": null,
   "id": "91ae9319-c589-405c-a6e9-28546c9fb107",
   "metadata": {},
   "outputs": [],
   "source": [
    "```\n",
    "<!DOCTYPE html>\n",
    "<html>\n",
    "    <head>\n",
    "        <title>Page Title</title>\n",
    "    </head> \n",
    "    <body> \n",
    "        <h1>This is a heading</h1>\n",
    "        <p>This is a paragraph</p>\n",
    "    </body> \n",
    "</html>"
   ]
  },
  {
   "cell_type": "markdown",
   "id": "9f4eac02-919c-4bce-b59f-922f1f26422f",
   "metadata": {},
   "source": [
    "[Image of Patrick Kane] (https://i.pinimg.com/originals/72/fb/73/72fb733dd5671ef3b974fd9efcdc08ff.jpg)"
   ]
  }
 ],
 "metadata": {
  "kernelspec": {
   "display_name": "Python 3 (ipykernel)",
   "language": "python",
   "name": "python3"
  },
  "language_info": {
   "codemirror_mode": {
    "name": "ipython",
    "version": 3
   },
   "file_extension": ".py",
   "mimetype": "text/x-python",
   "name": "python",
   "nbconvert_exporter": "python",
   "pygments_lexer": "ipython3",
   "version": "3.12.1"
  }
 },
 "nbformat": 4,
 "nbformat_minor": 5
}
