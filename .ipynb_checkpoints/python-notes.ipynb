{
 "cells": [
  {
   "cell_type": "markdown",
   "metadata": {},
   "source": [
    "# Python Programming: A General Overview"
   ]
  },
  {
   "cell_type": "markdown",
   "metadata": {},
   "source": [
    "## Introduction\n",
    "\n",
    "Python is a high-level, interpreted programming language known for its readability and simplicity. It's widely used in various fields like web development, data science, artificial intelligence, and more."
   ]
  },
  {
   "cell_type": "markdown",
   "metadata": {},
   "source": [
    "### Variables\n",
    "\n",
    "Variables are used to store data values. In Python, you don't need to declare the type of a variable explicitly.\n",
    "```\n",
    "# Example of variable assignment\n",
    "\n",
    "X = 5 # Integer\n",
    "y = 3.14 # Float\n",
    "name = \"Alice\" # String\n",
    "```"
   ]
  },
  {
   "cell_type": "markdown",
   "metadata": {},
   "source": [
    "### Data Types\n",
    "\n",
    "Common data types in Python include:\n",
    "\n",
    "• Integers (int ): Whole numbers, e.g., 1, 42\n",
    "\n",
    "• Floating-point numbers ( float): Decimal numbers, e.g., 3.14, 0.001\n",
    "\n",
    "• Strings ( str ): Text data, e.g., \"Hello, World!\"\n",
    "\n",
    "• Booleans ( bool ): Logical values True or False\n",
    "\n",
    "• Lists (list ): Ordered, mutable collections, e.g., [1, 2, 3]\n",
    "\n",
    "• Dictionaries ( dict): Key-value pairs, e.g., { \"name\": \"Alice\", \"age\": 25 }\n",
    "\n",
    "• Tuples ( tuple ): Ordered, immutable collections, e.g., (1, 2, 3)\n",
    "\n",
    "• Sets ( set ): Unordered collections of unique items, e.g., {1, 2, 3}\n"
   ]
  },
  {
   "cell_type": "markdown",
   "metadata": {},
   "source": [
    "### Operators \n",
    "\n",
    "#### Arithmetic Operators\n",
    "\n",
    "• Addition: +\n",
    "\n",
    "• Subtraction: -\n",
    "\n",
    "• Multiplication: *\n",
    "\n",
    "• Division: /\n",
    "\n",
    "• Modulus (remainder): %\n",
    "\n",
    "• Exponentiation: **\n",
    "\n",
    "• Floor Division: //\n"
   ]
  },
  {
   "cell_type": "markdown",
   "metadata": {},
   "source": [
    "#### Comparison Operators\n",
    "\n",
    "• Equal to: ==\n",
    "\n",
    "• Not equal to: !=\n",
    "\n",
    "• Greater than: >\n",
    "\n",
    "• Less than: <\n",
    "\n",
    "• Greater than or equal to: >=\n",
    "\n",
    "• Less than or equal to: <=\n"
   ]
  },
  {
   "cell_type": "markdown",
   "metadata": {},
   "source": [
    "#### Logical Operators\n",
    "\n",
    "• And: and\n",
    "\n",
    "• Or: or\n",
    "\n",
    "• Not: not\n"
   ]
  },
  {
   "cell_type": "markdown",
   "metadata": {},
   "source": [
    "#### If Statements\n",
    "\n",
    "Used to execute code based on a condition.\n",
    "\n",
    "```\n",
    "# Example of an if statement\n",
    "\n",
    "age = 18\n",
    "if age >= 18:\n",
    "    print (\"You are an adult.\")\n",
    "else:\n",
    "    print(\"You are a minor.\")\n",
    "```"
   ]
  },
  {
   "cell_type": "markdown",
   "metadata": {},
   "source": [
    "#### Loops\n",
    "\n",
    "Loops are used to repeat a block of code multiple times. "
   ]
  },
  {
   "cell_type": "markdown",
   "metadata": {},
   "source": [
    "##### For Loops \n",
    "\n",
    "Used for iterating over a sequence (like a list or a range).\n",
    "\n",
    "```\n",
    "# For loop example\n",
    "\n",
    "for i in range (5):\n",
    "    print(\"Iteration\", i)\n",
    "``` "
   ]
  },
  {
   "cell_type": "markdown",
   "metadata": {},
   "source": [
    "##### While Loops \n",
    "\n",
    "Repeats as long as a condition is true. \n",
    "\n",
    "```\n",
    "#While loop examples \n",
    "\n",
    "count = 0 \n",
    "while count < 5: \n",
    "    print(\"Count is\", count)\n",
    "    count += 1\n",
    "```"
   ]
  },
  {
   "cell_type": "markdown",
   "metadata": {},
   "source": [
    "### Lists \n",
    "\n",
    "Lists are ordered mutable collections of items. \n",
    "\n",
    "```\n",
    "# Creating a list\n",
    "fruits = [\"apple\", \"banana\", \"cherry\"]\n",
    "\n",
    "# Accessing List items\n",
    "print(fruits [0]) # Outputs: apple\n",
    "\n",
    "# Modifying list items\n",
    "fruits [1] = \"blueberry\"\n",
    "\n",
    "# Adding items to a list\n",
    "fruits.append(\"date\")\n",
    "\n",
    "# Removing items from a list\n",
    "fruits.remove (\"apple\")\n",
    "```"
   ]
  },
  {
   "cell_type": "markdown",
   "metadata": {},
   "source": [
    "#### Common List Methods \n",
    "\n",
    "• append (item): Adds an item to the end of the list.\n",
    "\n",
    "• insert (index, item): Inserts an item at a specified index.\n",
    "\n",
    "• remove (item) : Removes the first occurrence of an item.\n",
    "\n",
    "• pop (index): Removes and returns the item at the given index.\n",
    "\n",
    "• sort () : Sorts the list.\n",
    "\n",
    "• reverse () : Reverses the list.\n"
   ]
  },
  {
   "cell_type": "markdown",
   "metadata": {},
   "source": [
    "### Dictionaries\n",
    "\n",
    "Dictionaries are used to store data values in key-value pairs. \n",
    "\n",
    "```\n",
    "# Creating a dictionary\n",
    "person = { \"name\": \"Alice\", \"age\": 25 }\n",
    "\n",
    "# Accessing dictionary items\n",
    "print (person [\"name\" 1]) # Outputs: Alice\n",
    "\n",
    "# Modifying dictionary items\n",
    "person [\"age\"] = 26\n",
    "\n",
    "# Adding a new key-value pair\n",
    "person [\"city\"] = \"New York\"\n",
    "```"
   ]
  },
  {
   "cell_type": "markdown",
   "metadata": {},
   "source": [
    "#### Common Dictionary Methods \n",
    "\n",
    "• keys () : Returns a list of keys.\n",
    "\n",
    "• values () : Returns a list of values.\n",
    "\n",
    "• items () : Returns a list of key-value pairs.\n",
    "\n",
    "• get (key): Returns the value for the specified key.\n"
   ]
  },
  {
   "cell_type": "markdown",
   "metadata": {},
   "source": [
    "### Functions \n",
    "\n",
    "Functions are reusable blocks of code that perform a specific task.\n",
    "\n",
    "```\n",
    "# Defining a function\n",
    "def greet (name):\n",
    "    return f\"Hello, {name}!\"\n",
    "    \n",
    "# Calling a function\n",
    "message = greet(\"Alice\")\n",
    "print (message) # Outputs: Hello, Alice!\n",
    "```"
   ]
  },
  {
   "cell_type": "markdown",
   "metadata": {},
   "source": [
    "#### Parameters and Arguments \n",
    "\n",
    "Functions can take parameters to work with different values.\n",
    "\n",
    "```\n",
    "# Function with parameters\n",
    "def add(a, b):\n",
    "    return a + b\n",
    "\n",
    "# Calling the function with arguments\n",
    "result = add(3, 4)\n",
    "print(result) # Outputs: 7\n",
    "```\n"
   ]
  },
  {
   "cell_type": "markdown",
   "metadata": {},
   "source": [
    "### Input and Output\n",
    "\n",
    "#### Input \n",
    "\n",
    "Used to get user input from the console.\n",
    "\n",
    "```\n",
    "# Getting user input\n",
    "name = input (\"Enter your name: \")\n",
    "print(f\"Hello, {name}!\")\n",
    "```"
   ]
  },
  {
   "cell_type": "markdown",
   "metadata": {},
   "source": [
    "#### Output \n",
    "\n",
    "Used to displat information to the console. \n",
    "\n",
    "```\n",
    "# Printing output \n",
    "print(\"Welcome to Python programming!\")\n",
    "```"
   ]
  },
  {
   "cell_type": "markdown",
   "metadata": {},
   "source": [
    "### Comments \n",
    "\n",
    "Comments are used to explain code and are ignored by the interpreter. \n",
    "\n",
    "```\n",
    "• Single-line comment:\n",
    "\n",
    "    # This is a single- Line comment\n",
    "\n",
    "• Multi-line comment:\n",
    "\n",
    "    ...\n",
    "    This is a\n",
    "    multi-line comment\n",
    "    ...\n",
    "```\n"
   ]
  },
  {
   "cell_type": "markdown",
   "metadata": {},
   "source": [
    "### Object-Oriented Programming (OOP)\n",
    "\n",
    "Python supports object-oriented programming, which allows you to create classes and objects. \n",
    "\n",
    "#### Classes and Objects \n",
    "\n",
    "```\n",
    "• Class: A blueprint for creating objects.\n",
    "• Object: An instance of a class.\n",
    "\n",
    "# Defining a class\n",
    "class Person:\n",
    "    def init (self, name, age):\n",
    "        self.name = name\n",
    "        self.age = age\n",
    "\n",
    "    def greet(self):\n",
    "        return f\"Hello, my name is {self.name}.\"\n",
    "        \n",
    "# Creating an object\n",
    "person1 = Person(\"Alice\", 25)\n",
    "print(person1.greet ()) # Outputs: Hello, my name is Alice.\n",
    "```"
   ]
  }
 ],
 "metadata": {
  "language_info": {
   "name": "python"
  }
 },
 "nbformat": 4,
 "nbformat_minor": 2
}
